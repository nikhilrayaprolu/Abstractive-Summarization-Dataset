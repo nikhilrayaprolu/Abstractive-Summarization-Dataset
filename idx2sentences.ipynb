{
 "cells": [
  {
   "cell_type": "code",
   "execution_count": 1,
   "metadata": {
    "collapsed": true
   },
   "outputs": [],
   "source": [
    "import numpy as np\n",
    "import torch\n",
    "import pickle\n",
    "import os\n",
    "from vocab import Vocab\n",
    "from batch import Batch"
   ]
  },
  {
   "cell_type": "code",
   "execution_count": 2,
   "metadata": {
    "collapsed": true
   },
   "outputs": [],
   "source": [
    "# hyperparameters\n",
    "hidden_dim = 256\n",
    "embed_dim = 128\n",
    "batch_size = 16\n",
    "num_samples = 92579\n",
    "max_encoder_steps = 400\n",
    "max_decoder_steps = 100\n",
    "beam_size = 4\n",
    "min_decoder_steps = 35 # min size of generated sequence\n",
    "vocab_size = 50000\n",
    "lr = 0.15\n",
    "adagrad_init_acc = 0.1 # deprecated for pytorch\n",
    "rand_unif_init_mag = 0.02 # magnitude for lstm cells during random init\n",
    "trunc_norm_init_std = 1e-4 # std of truncated norm initialization\n",
    "max_grad_norm = 2.0 # so they do apply gradient clipping\n",
    "max_oovs = 20 # maximum number of oovs allowed?\n",
    "coverage_loss = 1.0 # lambda"
   ]
  },
  {
   "cell_type": "code",
   "execution_count": 3,
   "metadata": {
    "collapsed": true
   },
   "outputs": [],
   "source": [
    "# get vocabulary\n",
    "vocab = Vocab(50000)\n",
    "vocab.w2i = np.load('word2idx.npy').item()\n",
    "vocab.i2w = np.load('idx2word.npy').item()\n",
    "vocab.count = len(vocab.w2i)"
   ]
  },
  {
   "cell_type": "code",
   "execution_count": 4,
   "metadata": {
    "collapsed": false
   },
   "outputs": [],
   "source": [
    "# get dataset in batches\n",
    "file_dir = '/home/mjc/datasets/CNN_DailyMail/cnn/stories_merged_100/'\n",
    "file_list = os.listdir(file_dir)\n",
    "batch = Batch(file_list,400,100)"
   ]
  },
  {
   "cell_type": "code",
   "execution_count": 5,
   "metadata": {
    "collapsed": false
   },
   "outputs": [],
   "source": [
    "batch.init_minibatch()\n",
    "with open(os.path.join(file_dir,file_list[70])) as f:\n",
    "    minibatch = f.read()\n",
    "    minibatch = minibatch.split('\\n\\n')\n",
    "    minibatch = [line for line in minibatch if not line.startswith(\":==:\")]\n",
    "stories, summaries = batch.process_minibatch(minibatch,vocab)"
   ]
  },
  {
   "cell_type": "code",
   "execution_count": 7,
   "metadata": {
    "collapsed": false,
    "scrolled": true
   },
   "outputs": [
    {
     "data": {
      "text/plain": [
       "'( cnn ) -- drainage tubes . waterfalls . <UNK> . these are n\\'t features typically associated with hotels , but the most interesting places to stay in latin america somehow make them work . this group of hotels goes a few steps further than <UNK> service and a free breakfast lineup to make your stay memorable . <UNK> ( <UNK> , mexico ) modeled after the funky <UNK> in <UNK> , austria , the <UNK> has transformed 20 concrete <UNK> pipes into minimalistic hotel rooms . artfully arranged in groups of three , the pipes are 8 feet wide and 11 feet long and outfitted with a queen - sized bed , desk light and fan . claustrophobic or amenities - driven travelers need not apply . <UNK> , <UNK> <UNK> kilometer 17 s / n , san sebastian , <UNK> , mexico ; + 52 <UNK> <UNK> <UNK> ; from $ 31 per night costa verde ( <UNK> , costa rica ) in the dense forest along the western coast of costa rica lies the body of an old boeing <UNK> . it \\'s not the ominous remains of a flight gone wrong , but rather a luxury hotel suite . dangling over the side of a hill amid a selection of more traditional accommodations , the fuselage of the vintage 1965 jetliner has been remade into a two - bedroom rental complete with dining area , sitting room and a small wooden deck for spotting the <UNK> , <UNK> monkeys and other jungle creatures . the fuselage that <UNK> the two bedrooms of the \" <UNK> fuselage home \" suite is intact . apart from the distinctive shape of the <UNK> and curved ceiling , however , the interior feels more <UNK> bungalow than aircraft . costa verde , about a half mile from entrance to manuel antonio national park , <UNK> , costa rica ; + 506 <UNK> <UNK> ; <UNK> suite from $ 250 per night <UNK> guadalupe <UNK> ( <UNK> de guadalupe , mexico ) \" luxury cabin \" sounds like an <UNK> , but not when you \\'re talking about the 20 designer shelters that make up this baja california retreat . each sparse but chic unit includes king - size beds , ceiling fans and floor - to - ceiling windows . the hotel is positioned among <UNK> terrain , so it'"
      ]
     },
     "execution_count": 7,
     "metadata": {},
     "output_type": "execute_result"
    }
   ],
   "source": [
    "idx=22\n",
    "\n",
    "' '.join(vocab.idx_list_to_word_list(stories[idx]))"
   ]
  },
  {
   "cell_type": "code",
   "execution_count": 13,
   "metadata": {
    "collapsed": false,
    "scrolled": true
   },
   "outputs": [
    {
     "data": {
      "text/plain": [
       "\"<SOS> hotels shaped like volcanoes or built in old passenger jets among more unusual accommodation available in latin america . the <UNK> 's nest tree house in costa rica features rooms perched above the rainforest floor in a guanacaste tree . the floors , ceilings and even the beds in bolivia 's palacio de <UNK> are constructed out of salt . <EOS> <PAD> <PAD> <PAD> <PAD> <PAD> <PAD> <PAD> <PAD> <PAD> <PAD> <PAD> <PAD> <PAD> <PAD> <PAD> <PAD> <PAD> <PAD> <PAD> <PAD> <PAD> <PAD> <PAD> <PAD> <PAD> <PAD> <PAD> <PAD> <PAD> <PAD> <PAD> <PAD>\""
      ]
     },
     "execution_count": 13,
     "metadata": {},
     "output_type": "execute_result"
    }
   ],
   "source": [
    "' '.join(vocab.idx_list_to_word_list(stories[idx],batch.idx2oov_list[idx]))\n",
    "unked = batch.unk_minibatch(summaries[idx],vocab)\n",
    "' '.join(vocab.idx_list_to_word_list(unked,batch.idx2oov_list[idx]))"
   ]
  },
  {
   "cell_type": "code",
   "execution_count": 12,
   "metadata": {
    "collapsed": false
   },
   "outputs": [
    {
     "data": {
      "text/plain": [
       "\"<SOS> hotels shaped like volcanoes or built in old passenger jets among more unusual accommodation available in latin america . the lapa 's nest tree house in costa rica features rooms perched above the rainforest floor in a guanacaste tree . the floors , ceilings and even the beds in bolivia 's palacio de sal are constructed out of salt . <EOS> <PAD> <PAD> <PAD> <PAD> <PAD> <PAD> <PAD> <PAD> <PAD> <PAD> <PAD> <PAD> <PAD> <PAD> <PAD> <PAD> <PAD> <PAD> <PAD> <PAD> <PAD> <PAD> <PAD> <PAD> <PAD> <PAD> <PAD> <PAD> <PAD> <PAD> <PAD> <PAD>\""
      ]
     },
     "execution_count": 12,
     "metadata": {},
     "output_type": "execute_result"
    }
   ],
   "source": [
    "' '.join(vocab.idx_list_to_word_list(summaries[idx],batch.idx2oov_list[idx]))"
   ]
  },
  {
   "cell_type": "code",
   "execution_count": null,
   "metadata": {
    "collapsed": false
   },
   "outputs": [],
   "source": [
    "' '.join(vocab.idx_list_to_word_list(summaries[idx]))"
   ]
  },
  {
   "cell_type": "code",
   "execution_count": null,
   "metadata": {
    "collapsed": false
   },
   "outputs": [],
   "source": [
    "batch.oov2idx_list[idx]"
   ]
  },
  {
   "cell_type": "code",
   "execution_count": null,
   "metadata": {
    "collapsed": true
   },
   "outputs": [],
   "source": []
  }
 ],
 "metadata": {
  "anaconda-cloud": {},
  "kernelspec": {
   "display_name": "Python [conda env:pytorch]",
   "language": "python",
   "name": "conda-env-pytorch-py"
  },
  "language_info": {
   "codemirror_mode": {
    "name": "ipython",
    "version": 3
   },
   "file_extension": ".py",
   "mimetype": "text/x-python",
   "name": "python",
   "nbconvert_exporter": "python",
   "pygments_lexer": "ipython3",
   "version": "3.5.2"
  }
 },
 "nbformat": 4,
 "nbformat_minor": 1
}

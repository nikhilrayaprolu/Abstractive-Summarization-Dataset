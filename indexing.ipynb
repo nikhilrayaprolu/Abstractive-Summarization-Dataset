{
 "cells": [
  {
   "cell_type": "code",
   "execution_count": 1,
   "metadata": {
    "collapsed": true
   },
   "outputs": [],
   "source": [
    "import torch\n",
    "import numpy as np\n",
    "from torch.autograd import Variable\n",
    "import torch.nn.functional as F"
   ]
  },
  {
   "cell_type": "code",
   "execution_count": 2,
   "metadata": {
    "collapsed": true
   },
   "outputs": [],
   "source": [
    "vocab_size = 5\n",
    "batch_size = 10\n",
    "seq_length = 20"
   ]
  },
  {
   "cell_type": "code",
   "execution_count": 3,
   "metadata": {
    "collapsed": true
   },
   "outputs": [],
   "source": [
    "# Generate random indices of range [0, vocab_size)\n",
    "word_indices = torch.from_numpy(np.random.randint(low=0, high=vocab_size, size=(batch_size, seq_length))).view(-1)"
   ]
  },
  {
   "cell_type": "code",
   "execution_count": 4,
   "metadata": {
    "collapsed": true
   },
   "outputs": [],
   "source": [
    "# Generate batch indices [0, ..., 0, 1, ...1, (batch_size-1), .... (batch_size-1)]  (total length: seq_length * batch_size )\n",
    "batch_indices = torch.arange(start=0, end=batch_size).long()\n",
    "batch_indices = batch_indices.expand(seq_length, batch_size).transpose(1, 0).contiguous().view(-1)"
   ]
  },
  {
   "cell_type": "code",
   "execution_count": 5,
   "metadata": {
    "collapsed": true
   },
   "outputs": [],
   "source": [
    "# Generate random weigths of range [0, 1)\n",
    "attn_weights = torch.rand(batch_size, seq_length)"
   ]
  },
  {
   "cell_type": "code",
   "execution_count": 6,
   "metadata": {
    "collapsed": true
   },
   "outputs": [],
   "source": [
    "# result\n",
    "probs = torch.zeros(batch_size, vocab_size)"
   ]
  },
  {
   "cell_type": "code",
   "execution_count": 7,
   "metadata": {
    "collapsed": true
   },
   "outputs": [],
   "source": [
    "idx_repeat = torch.arange(start=0, end=seq_length).repeat(batch_size).long()"
   ]
  },
  {
   "cell_type": "code",
   "execution_count": 28,
   "metadata": {},
   "outputs": [
    {
     "data": {
      "text/plain": [
       "torch.Size([200])"
      ]
     },
     "execution_count": 28,
     "metadata": {},
     "output_type": "execute_result"
    }
   ],
   "source": [
    "word_indices.size()"
   ]
  },
  {
   "cell_type": "code",
   "execution_count": 29,
   "metadata": {
    "collapsed": true
   },
   "outputs": [],
   "source": [
    "probs2 = Variable(probs)\n",
    "batch_indices2 = Variable(batch_indices)\n",
    "word_indices2 = word_indices.numpy()\n",
    "attn_weights2 = Variable(attn_weights)\n",
    "probs2[batch_indices.numpy(), word_indices.numpy()] += attn_weights2[batch_indices.numpy(), idx_repeat.numpy()]"
   ]
  },
  {
   "cell_type": "code",
   "execution_count": 22,
   "metadata": {},
   "outputs": [
    {
     "data": {
      "text/plain": [
       "\n",
       " 0.6432  0.0587  0.2167  0.0000  0.9910\n",
       " 0.5769  0.1242  0.4342  0.4139  0.1856\n",
       " 0.5714  0.6609  0.7067  0.0906  0.4292\n",
       " 0.2385  0.1086  0.9410  0.6531  0.9890\n",
       " 0.0573  0.5550  0.5400  0.0648  0.0824\n",
       " 0.7953  0.4637  0.6887  0.5442  0.3333\n",
       " 0.4901  0.5815  0.7205  0.9772  0.9535\n",
       " 0.0839  0.2172  0.5208  0.9757  0.4093\n",
       " 0.1071  0.5525  0.5867  0.9892  0.8876\n",
       " 0.3896  0.2948  0.5696  0.8866  0.2731\n",
       "[torch.FloatTensor of size 10x5]"
      ]
     },
     "execution_count": 22,
     "metadata": {},
     "output_type": "execute_result"
    }
   ],
   "source": [
    "probs"
   ]
  },
  {
   "cell_type": "code",
   "execution_count": 23,
   "metadata": {
    "scrolled": false
   },
   "outputs": [
    {
     "data": {
      "text/plain": [
       "\n",
       "\n",
       "Columns 0 to 9 \n",
       " 0.5156  0.5969  0.2728  0.5574  0.1238  0.4054  0.2764  0.0967  0.2052  0.8682\n",
       " 0.6614  0.1459  0.3985  0.1638  0.1242  0.8727  0.9195  0.7795  0.1704  0.4855\n",
       " 0.9425  0.0653  0.0918  0.3348  0.9809  0.8831  0.8569  0.5484  0.4038  0.0208\n",
       " 0.1086  0.1913  0.2066  0.5156  0.2749  0.7648  0.0831  0.3304  0.9754  0.0907\n",
       " 0.7049  0.5050  0.5790  0.7611  0.6380  0.4762  0.0357  0.0478  0.5732  0.1399\n",
       " 0.0238  0.4768  0.6004  0.9994  0.2454  0.9886  0.1800  0.1547  0.7847  0.8907\n",
       " 0.0132  0.1376  0.0305  0.4690  0.4810  0.9944  0.5815  0.2818  0.9839  0.7475\n",
       " 0.9746  0.9228  0.0166  0.8864  0.2480  0.1470  0.4093  0.5472  0.2331  0.6730\n",
       " 0.8553  0.9046  0.1353  0.7921  0.1126  0.8876  0.2032  0.5689  0.0138  0.9916\n",
       " 0.2047  0.1018  0.4643  0.8216  0.5489  0.4606  0.4918  0.3441  0.2117  0.8639\n",
       "\n",
       "Columns 10 to 19 \n",
       " 0.6986  0.5423  0.6858  0.7549  0.1617  0.0587  0.1640  0.6432  0.9910  0.2167\n",
       " 0.7498  0.7331  0.0682  0.4144  0.3649  0.1856  0.9272  0.4139  0.5769  0.4342\n",
       " 0.8436  0.5714  0.1372  0.6514  0.6939  0.0906  0.7067  0.1757  0.6609  0.4292\n",
       " 0.2385  0.8388  0.8692  0.3644  0.7227  0.7199  0.4949  0.9410  0.6531  0.9890\n",
       " 0.7980  0.5550  0.0472  0.7226  0.5400  0.3816  0.0648  0.4358  0.0824  0.0573\n",
       " 0.7319  0.6887  0.1782  0.7866  0.9469  0.5442  0.9802  0.3333  0.4637  0.7953\n",
       " 0.7217  0.7005  0.4502  0.6043  0.7205  0.8159  0.7058  0.9772  0.4901  0.9535\n",
       " 0.3637  0.5261  0.1774  0.7663  0.9757  0.3603  0.2172  0.4611  0.0839  0.5208\n",
       " 0.3566  0.2683  0.5525  0.2434  0.4375  0.7524  0.1071  0.7923  0.9892  0.5867\n",
       " 0.4873  0.6019  0.4926  0.3228  0.3896  0.2731  0.4423  0.2948  0.5696  0.8866\n",
       "[torch.FloatTensor of size 10x20]"
      ]
     },
     "execution_count": 23,
     "metadata": {},
     "output_type": "execute_result"
    }
   ],
   "source": [
    "attn_weights"
   ]
  },
  {
   "cell_type": "code",
   "execution_count": 18,
   "metadata": {
    "collapsed": true
   },
   "outputs": [],
   "source": [
    "from collections import Counter"
   ]
  },
  {
   "cell_type": "code",
   "execution_count": 19,
   "metadata": {
    "collapsed": true
   },
   "outputs": [],
   "source": [
    "counter = Counter(word_indices)"
   ]
  },
  {
   "cell_type": "code",
   "execution_count": 21,
   "metadata": {},
   "outputs": [
    {
     "ename": "TypeError",
     "evalue": "unorderable types: str() >= int()",
     "output_type": "error",
     "traceback": [
      "\u001b[0;31m---------------------------------------------------------------------------\u001b[0m",
      "\u001b[0;31mTypeError\u001b[0m                                 Traceback (most recent call last)",
      "\u001b[0;32m<ipython-input-21-75db0c7dcd83>\u001b[0m in \u001b[0;36m<module>\u001b[0;34m()\u001b[0m\n\u001b[0;32m----> 1\u001b[0;31m \u001b[0mcounter\u001b[0m\u001b[0;34m.\u001b[0m\u001b[0mmost_common\u001b[0m\u001b[0;34m(\u001b[0m\u001b[0;34m'>1'\u001b[0m\u001b[0;34m)\u001b[0m\u001b[0;34m\u001b[0m\u001b[0m\n\u001b[0m",
      "\u001b[0;32m~/anaconda3/envs/pytorch/lib/python3.5/collections/__init__.py\u001b[0m in \u001b[0;36mmost_common\u001b[0;34m(self, n)\u001b[0m\n\u001b[1;32m    549\u001b[0m         \u001b[0;32mif\u001b[0m \u001b[0mn\u001b[0m \u001b[0;32mis\u001b[0m \u001b[0;32mNone\u001b[0m\u001b[0;34m:\u001b[0m\u001b[0;34m\u001b[0m\u001b[0m\n\u001b[1;32m    550\u001b[0m             \u001b[0;32mreturn\u001b[0m \u001b[0msorted\u001b[0m\u001b[0;34m(\u001b[0m\u001b[0mself\u001b[0m\u001b[0;34m.\u001b[0m\u001b[0mitems\u001b[0m\u001b[0;34m(\u001b[0m\u001b[0;34m)\u001b[0m\u001b[0;34m,\u001b[0m \u001b[0mkey\u001b[0m\u001b[0;34m=\u001b[0m\u001b[0m_itemgetter\u001b[0m\u001b[0;34m(\u001b[0m\u001b[0;36m1\u001b[0m\u001b[0;34m)\u001b[0m\u001b[0;34m,\u001b[0m \u001b[0mreverse\u001b[0m\u001b[0;34m=\u001b[0m\u001b[0;32mTrue\u001b[0m\u001b[0;34m)\u001b[0m\u001b[0;34m\u001b[0m\u001b[0m\n\u001b[0;32m--> 551\u001b[0;31m         \u001b[0;32mreturn\u001b[0m \u001b[0m_heapq\u001b[0m\u001b[0;34m.\u001b[0m\u001b[0mnlargest\u001b[0m\u001b[0;34m(\u001b[0m\u001b[0mn\u001b[0m\u001b[0;34m,\u001b[0m \u001b[0mself\u001b[0m\u001b[0;34m.\u001b[0m\u001b[0mitems\u001b[0m\u001b[0;34m(\u001b[0m\u001b[0;34m)\u001b[0m\u001b[0;34m,\u001b[0m \u001b[0mkey\u001b[0m\u001b[0;34m=\u001b[0m\u001b[0m_itemgetter\u001b[0m\u001b[0;34m(\u001b[0m\u001b[0;36m1\u001b[0m\u001b[0;34m)\u001b[0m\u001b[0;34m)\u001b[0m\u001b[0;34m\u001b[0m\u001b[0m\n\u001b[0m\u001b[1;32m    552\u001b[0m \u001b[0;34m\u001b[0m\u001b[0m\n\u001b[1;32m    553\u001b[0m     \u001b[0;32mdef\u001b[0m \u001b[0melements\u001b[0m\u001b[0;34m(\u001b[0m\u001b[0mself\u001b[0m\u001b[0;34m)\u001b[0m\u001b[0;34m:\u001b[0m\u001b[0;34m\u001b[0m\u001b[0m\n",
      "\u001b[0;32m~/anaconda3/envs/pytorch/lib/python3.5/heapq.py\u001b[0m in \u001b[0;36mnlargest\u001b[0;34m(n, iterable, key)\u001b[0m\n\u001b[1;32m    544\u001b[0m         \u001b[0;32mpass\u001b[0m\u001b[0;34m\u001b[0m\u001b[0m\n\u001b[1;32m    545\u001b[0m     \u001b[0;32melse\u001b[0m\u001b[0;34m:\u001b[0m\u001b[0;34m\u001b[0m\u001b[0m\n\u001b[0;32m--> 546\u001b[0;31m         \u001b[0;32mif\u001b[0m \u001b[0mn\u001b[0m \u001b[0;34m>=\u001b[0m \u001b[0msize\u001b[0m\u001b[0;34m:\u001b[0m\u001b[0;34m\u001b[0m\u001b[0m\n\u001b[0m\u001b[1;32m    547\u001b[0m             \u001b[0;32mreturn\u001b[0m \u001b[0msorted\u001b[0m\u001b[0;34m(\u001b[0m\u001b[0miterable\u001b[0m\u001b[0;34m,\u001b[0m \u001b[0mkey\u001b[0m\u001b[0;34m=\u001b[0m\u001b[0mkey\u001b[0m\u001b[0;34m,\u001b[0m \u001b[0mreverse\u001b[0m\u001b[0;34m=\u001b[0m\u001b[0;32mTrue\u001b[0m\u001b[0;34m)\u001b[0m\u001b[0;34m[\u001b[0m\u001b[0;34m:\u001b[0m\u001b[0mn\u001b[0m\u001b[0;34m]\u001b[0m\u001b[0;34m\u001b[0m\u001b[0m\n\u001b[1;32m    548\u001b[0m \u001b[0;34m\u001b[0m\u001b[0m\n",
      "\u001b[0;31mTypeError\u001b[0m: unorderable types: str() >= int()"
     ]
    }
   ],
   "source": [
    "counter"
   ]
  },
  {
   "cell_type": "code",
   "execution_count": null,
   "metadata": {
    "collapsed": true
   },
   "outputs": [],
   "source": []
  }
 ],
 "metadata": {
  "kernelspec": {
   "display_name": "Python [default]",
   "language": "python",
   "name": "python3"
  },
  "language_info": {
   "codemirror_mode": {
    "name": "ipython",
    "version": 3
   },
   "file_extension": ".py",
   "mimetype": "text/x-python",
   "name": "python",
   "nbconvert_exporter": "python",
   "pygments_lexer": "ipython3",
   "version": "3.6.1"
  }
 },
 "nbformat": 4,
 "nbformat_minor": 2
}
